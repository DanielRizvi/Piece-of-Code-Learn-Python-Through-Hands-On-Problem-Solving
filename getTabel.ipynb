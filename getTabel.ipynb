{
  "nbformat": 4,
  "nbformat_minor": 0,
  "metadata": {
    "colab": {
      "provenance": []
    },
    "kernelspec": {
      "name": "python3",
      "display_name": "Python 3"
    },
    "language_info": {
      "name": "python"
    }
  },
  "cells": [
    {
      "cell_type": "code",
      "execution_count": 3,
      "metadata": {
        "id": "IPdX0JGwsgzL"
      },
      "outputs": [],
      "source": [
        "def get_tabel(num):\n",
        "  for i in range(1,11):\n",
        "    results = num * i\n",
        "    print(results)\n"
      ]
    },
    {
      "cell_type": "code",
      "source": [
        "get_tabel(2)"
      ],
      "metadata": {
        "colab": {
          "base_uri": "https://localhost:8080/"
        },
        "id": "jAIB8HKXsvwq",
        "outputId": "89d68733-d2a9-43ef-f5f8-251e568b4c41"
      },
      "execution_count": 4,
      "outputs": [
        {
          "output_type": "stream",
          "name": "stdout",
          "text": [
            "2\n",
            "4\n",
            "6\n",
            "8\n",
            "10\n",
            "12\n",
            "14\n",
            "16\n",
            "18\n",
            "20\n"
          ]
        }
      ]
    },
    {
      "cell_type": "code",
      "source": [],
      "metadata": {
        "id": "zirkJ6YxsxlI"
      },
      "execution_count": null,
      "outputs": []
    }
  ]
}