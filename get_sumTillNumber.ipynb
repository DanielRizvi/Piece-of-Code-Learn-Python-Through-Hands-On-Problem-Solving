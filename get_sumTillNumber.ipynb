{
  "nbformat": 4,
  "nbformat_minor": 0,
  "metadata": {
    "colab": {
      "provenance": []
    },
    "kernelspec": {
      "name": "python3",
      "display_name": "Python 3"
    },
    "language_info": {
      "name": "python"
    }
  },
  "cells": [
    {
      "cell_type": "code",
      "execution_count": 1,
      "metadata": {
        "id": "bHMKFzqa92lG"
      },
      "outputs": [],
      "source": [
        "def get_sum(num):\n",
        "  total_sum = 0\n",
        "  for i in range(0,num+1):\n",
        "    if i % 2 == 0:\n",
        "      total_sum = total_sum + i\n",
        "  print(total_sum)\n"
      ]
    },
    {
      "cell_type": "code",
      "source": [
        "get_sum(8)"
      ],
      "metadata": {
        "colab": {
          "base_uri": "https://localhost:8080/"
        },
        "id": "9z4d0dPL-KiV",
        "outputId": "653428dd-8ade-4622-a2e2-6867ad02afd2"
      },
      "execution_count": 2,
      "outputs": [
        {
          "output_type": "stream",
          "name": "stdout",
          "text": [
            "20\n"
          ]
        }
      ]
    },
    {
      "cell_type": "code",
      "source": [],
      "metadata": {
        "id": "VEmFhvCO-Nq_"
      },
      "execution_count": null,
      "outputs": []
    }
  ]
}