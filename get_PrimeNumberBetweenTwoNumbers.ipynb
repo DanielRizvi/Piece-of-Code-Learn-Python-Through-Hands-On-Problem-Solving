{
  "nbformat": 4,
  "nbformat_minor": 0,
  "metadata": {
    "colab": {
      "provenance": []
    },
    "kernelspec": {
      "name": "python3",
      "display_name": "Python 3"
    },
    "language_info": {
      "name": "python"
    }
  },
  "cells": [
    {
      "cell_type": "code",
      "execution_count": 1,
      "metadata": {
        "id": "1qrQRWMv6OLu"
      },
      "outputs": [],
      "source": [
        "def print_prime(l,r):\n",
        "  for i in range(l,r+1):\n",
        "    if i <2:\n",
        "      continue\n",
        "    is_prime = True\n",
        "    for num in range(2,i):\n",
        "      if i % num == 0 :\n",
        "        is_prime = False\n",
        "        break\n",
        "    if is_prime:\n",
        "      print(i, end =\" \")\n"
      ]
    },
    {
      "cell_type": "code",
      "source": [
        "print_prime(2,10)"
      ],
      "metadata": {
        "colab": {
          "base_uri": "https://localhost:8080/"
        },
        "id": "yejx0v0R6pW-",
        "outputId": "a5b8b3c4-51ee-4e32-9664-dff8a9564033"
      },
      "execution_count": 3,
      "outputs": [
        {
          "output_type": "stream",
          "name": "stdout",
          "text": [
            "2 3 5 7 "
          ]
        }
      ]
    },
    {
      "cell_type": "code",
      "source": [],
      "metadata": {
        "id": "NOZ89CYY6rUQ"
      },
      "execution_count": null,
      "outputs": []
    }
  ]
}